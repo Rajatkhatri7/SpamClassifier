{
  "nbformat": 4,
  "nbformat_minor": 0,
  "metadata": {
    "colab": {
      "name": "Spam classifier.ipynb",
      "provenance": []
    },
    "kernelspec": {
      "name": "python3",
      "display_name": "Python 3"
    }
  },
  "cells": [
    {
      "cell_type": "markdown",
      "metadata": {
        "id": "3uVvAIPMYU31"
      },
      "source": [
        "**Spam messages classification**\n",
        "\n",
        "\n",
        "![img.jpeg](data:image/jpeg;base64,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)\n",
        "\n",
        "\n",
        "Text mining (deriving information from text) is a wide field which has gained popularity with the huge text data being generated. Automation of a number of applications like sentiment analysis, document classification, topic classification, text summarization, machine translation, etc has been done using machine learning models.\n",
        "\n",
        "Spam filtering is a beginner’s example of document classification task which involves classifying an email as spam or non-spam (a.k.a. ham) mail. Spam box in your Gmail account is the best example of this. So lets get started in building a spam filter on a publicly available mail corpus. I have extracted equal number of spam and non-spam emails from Ling-spam corpus. The extracted subset on which we will be working can be downloaded from here.\n",
        "\n",
        "We will walk through the following steps to build this application :\n",
        "\n",
        "Preparing the text data.\n",
        "Creating word dictionary.\n",
        "Feature extraction process\n",
        "Training the classifier"
      ]
    },
    {
      "cell_type": "code",
      "metadata": {
        "colab": {
          "base_uri": "https://localhost:8080/"
        },
        "id": "vYwQ3_erPaiE",
        "outputId": "034b7677-67aa-41e3-e4ce-d483b80c6031"
      },
      "source": [
        "cd MyDrive/"
      ],
      "execution_count": 4,
      "outputs": [
        {
          "output_type": "stream",
          "text": [
            "/content/drive/MyDrive\n"
          ],
          "name": "stdout"
        }
      ]
    },
    {
      "cell_type": "code",
      "metadata": {
        "id": "ZmG-M2dBPd5Z"
      },
      "source": [
        "msg = pd.read_csv('SMSSpamCollection',sep = '\\t',names = [\"label\",'messages'])"
      ],
      "execution_count": 13,
      "outputs": []
    },
    {
      "cell_type": "code",
      "metadata": {
        "colab": {
          "base_uri": "https://localhost:8080/",
          "height": 419
        },
        "id": "o1hJXIoFPo0a",
        "outputId": "ecff9ea5-a506-4411-fdb8-016f2e62123b"
      },
      "source": [
        "msg"
      ],
      "execution_count": 14,
      "outputs": [
        {
          "output_type": "execute_result",
          "data": {
            "text/html": [
              "<div>\n",
              "<style scoped>\n",
              "    .dataframe tbody tr th:only-of-type {\n",
              "        vertical-align: middle;\n",
              "    }\n",
              "\n",
              "    .dataframe tbody tr th {\n",
              "        vertical-align: top;\n",
              "    }\n",
              "\n",
              "    .dataframe thead th {\n",
              "        text-align: right;\n",
              "    }\n",
              "</style>\n",
              "<table border=\"1\" class=\"dataframe\">\n",
              "  <thead>\n",
              "    <tr style=\"text-align: right;\">\n",
              "      <th></th>\n",
              "      <th>label</th>\n",
              "      <th>messages</th>\n",
              "    </tr>\n",
              "  </thead>\n",
              "  <tbody>\n",
              "    <tr>\n",
              "      <th>0</th>\n",
              "      <td>ham</td>\n",
              "      <td>Go until jurong point, crazy.. Available only ...</td>\n",
              "    </tr>\n",
              "    <tr>\n",
              "      <th>1</th>\n",
              "      <td>ham</td>\n",
              "      <td>Ok lar... Joking wif u oni...</td>\n",
              "    </tr>\n",
              "    <tr>\n",
              "      <th>2</th>\n",
              "      <td>spam</td>\n",
              "      <td>Free entry in 2 a wkly comp to win FA Cup fina...</td>\n",
              "    </tr>\n",
              "    <tr>\n",
              "      <th>3</th>\n",
              "      <td>ham</td>\n",
              "      <td>U dun say so early hor... U c already then say...</td>\n",
              "    </tr>\n",
              "    <tr>\n",
              "      <th>4</th>\n",
              "      <td>ham</td>\n",
              "      <td>Nah I don't think he goes to usf, he lives aro...</td>\n",
              "    </tr>\n",
              "    <tr>\n",
              "      <th>...</th>\n",
              "      <td>...</td>\n",
              "      <td>...</td>\n",
              "    </tr>\n",
              "    <tr>\n",
              "      <th>5567</th>\n",
              "      <td>spam</td>\n",
              "      <td>This is the 2nd time we have tried 2 contact u...</td>\n",
              "    </tr>\n",
              "    <tr>\n",
              "      <th>5568</th>\n",
              "      <td>ham</td>\n",
              "      <td>Will ü b going to esplanade fr home?</td>\n",
              "    </tr>\n",
              "    <tr>\n",
              "      <th>5569</th>\n",
              "      <td>ham</td>\n",
              "      <td>Pity, * was in mood for that. So...any other s...</td>\n",
              "    </tr>\n",
              "    <tr>\n",
              "      <th>5570</th>\n",
              "      <td>ham</td>\n",
              "      <td>The guy did some bitching but I acted like i'd...</td>\n",
              "    </tr>\n",
              "    <tr>\n",
              "      <th>5571</th>\n",
              "      <td>ham</td>\n",
              "      <td>Rofl. Its true to its name</td>\n",
              "    </tr>\n",
              "  </tbody>\n",
              "</table>\n",
              "<p>5572 rows × 2 columns</p>\n",
              "</div>"
            ],
            "text/plain": [
              "     label                                           messages\n",
              "0      ham  Go until jurong point, crazy.. Available only ...\n",
              "1      ham                      Ok lar... Joking wif u oni...\n",
              "2     spam  Free entry in 2 a wkly comp to win FA Cup fina...\n",
              "3      ham  U dun say so early hor... U c already then say...\n",
              "4      ham  Nah I don't think he goes to usf, he lives aro...\n",
              "...    ...                                                ...\n",
              "5567  spam  This is the 2nd time we have tried 2 contact u...\n",
              "5568   ham               Will ü b going to esplanade fr home?\n",
              "5569   ham  Pity, * was in mood for that. So...any other s...\n",
              "5570   ham  The guy did some bitching but I acted like i'd...\n",
              "5571   ham                         Rofl. Its true to its name\n",
              "\n",
              "[5572 rows x 2 columns]"
            ]
          },
          "metadata": {
            "tags": []
          },
          "execution_count": 14
        }
      ]
    },
    {
      "cell_type": "code",
      "metadata": {
        "colab": {
          "base_uri": "https://localhost:8080/"
        },
        "id": "4s2c7wuZPx3B",
        "outputId": "2ce9ed77-480a-4bca-db9b-397499f12dea"
      },
      "source": [
        "import re\n",
        "import nltk\n",
        "nltk.download('stopwords')\n",
        "\n",
        "from nltk.corpus import stopwords\n",
        "\n",
        "from nltk.stem.porter import  PorterStemmer\n",
        "\n",
        "ps = PorterStemmer()\n",
        "corpus= []\n"
      ],
      "execution_count": 15,
      "outputs": [
        {
          "output_type": "stream",
          "text": [
            "[nltk_data] Downloading package stopwords to /root/nltk_data...\n",
            "[nltk_data]   Package stopwords is already up-to-date!\n"
          ],
          "name": "stdout"
        }
      ]
    },
    {
      "cell_type": "code",
      "metadata": {
        "id": "hq0TXfs9RQ0J"
      },
      "source": [
        "for i in range(0,len(msg)):\n",
        "  review = re.sub('[^a-zA-Z]',' ',msg['messages'][i])\n",
        "  review = review.lower()\n",
        "  review = review.split()\n",
        "\n",
        "  #lamatization\n",
        "  review = [ps.stem(word) for word in review if not word in stopwords.words('english')]\n",
        "  review = ' '.join(review)\n",
        "  corpus.append(review)\n",
        "\n",
        "\n",
        "\n",
        "\n"
      ],
      "execution_count": 20,
      "outputs": []
    },
    {
      "cell_type": "code",
      "metadata": {
        "id": "7XK8KcmeTRaH"
      },
      "source": [
        "#creating BOG\n",
        "from sklearn.feature_extraction.text import CountVectorizer\n",
        "cv =CountVectorizer(max_features = 2500) # discariding the lower frequece words\n",
        "\n",
        "X = cv.fit_transform(corpus).toarray()\n",
        "\n",
        "\n",
        "\n",
        "y = pd.get_dummies(msg['label'])  #mapping label to 0 and 1\n",
        "y = y.iloc[:,1].values\n",
        "\n",
        "\n",
        "#train test split\n",
        "from sklearn.model_selection import train_test_split\n",
        "X_train,X_test,Y_train,Y_test = train_test_split(X,y,test_size =.20,random_state = 0)\n",
        "\n"
      ],
      "execution_count": 23,
      "outputs": []
    },
    {
      "cell_type": "code",
      "metadata": {
        "id": "_0MDV2HHU0s1"
      },
      "source": [
        "#train model\n",
        "\n",
        "from sklearn.naive_bayes import MultinomialNB\n",
        "spam_detect_model = MultinomialNB().fit(X_train,Y_train)\n",
        "\n",
        "Y_pred = spam_detect_model.predict(X_test)"
      ],
      "execution_count": 24,
      "outputs": []
    },
    {
      "cell_type": "code",
      "metadata": {
        "id": "o4LMdQZoVuMr"
      },
      "source": [
        "from sklearn.metrics import confusion_matrix\n",
        "confusion_m = confusion_matrix(Y_test,Y_pred)"
      ],
      "execution_count": 25,
      "outputs": []
    },
    {
      "cell_type": "code",
      "metadata": {
        "colab": {
          "base_uri": "https://localhost:8080/"
        },
        "id": "3K04oLkUWeZH",
        "outputId": "831f8e4a-8ae9-4b3b-8f2f-6aac5ee9d4cb"
      },
      "source": [
        "confusion_m"
      ],
      "execution_count": 26,
      "outputs": [
        {
          "output_type": "execute_result",
          "data": {
            "text/plain": [
              "array([[946,   9],\n",
              "       [  7, 153]])"
            ]
          },
          "metadata": {
            "tags": []
          },
          "execution_count": 26
        }
      ]
    },
    {
      "cell_type": "code",
      "metadata": {
        "colab": {
          "base_uri": "https://localhost:8080/"
        },
        "id": "GRjOvRQtWf2J",
        "outputId": "097c99f4-e32c-4410-b934-4038727b1f55"
      },
      "source": [
        "from sklearn.metrics import accuracy_score\n",
        "acc = accuracy_score(Y_test,Y_pred)\n",
        "print(acc)"
      ],
      "execution_count": 27,
      "outputs": [
        {
          "output_type": "stream",
          "text": [
            "0.9856502242152466\n"
          ],
          "name": "stdout"
        }
      ]
    },
    {
      "cell_type": "markdown",
      "metadata": {
        "id": "0OjmBjWLWtwS"
      },
      "source": [
        "We got 98% accuracy with stemming"
      ]
    },
    {
      "cell_type": "code",
      "metadata": {
        "id": "eV0CDVINWrrR"
      },
      "source": [
        ""
      ],
      "execution_count": null,
      "outputs": []
    }
  ]
}